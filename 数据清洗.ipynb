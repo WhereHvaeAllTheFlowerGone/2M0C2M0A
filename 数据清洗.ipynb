{
 "cells": [
  {
   "cell_type": "code",
   "execution_count": 71,
   "metadata": {
    "ExecuteTime": {
     "end_time": "2020-02-14T13:27:00.669443Z",
     "start_time": "2020-02-14T13:27:00.666450Z"
    }
   },
   "outputs": [],
   "source": [
    "import pandas as pd\n",
    "import numpy as np"
   ]
  },
  {
   "cell_type": "code",
   "execution_count": 72,
   "metadata": {
    "ExecuteTime": {
     "end_time": "2020-02-14T13:27:03.019014Z",
     "start_time": "2020-02-14T13:27:02.997027Z"
    }
   },
   "outputs": [],
   "source": [
    "tem1 = pd.read_csv('D:\\\\tem.csv')"
   ]
  },
  {
   "cell_type": "code",
   "execution_count": 73,
   "metadata": {
    "ExecuteTime": {
     "end_time": "2020-02-14T13:27:04.266896Z",
     "start_time": "2020-02-14T13:27:04.252926Z"
    }
   },
   "outputs": [
    {
     "data": {
      "text/html": [
       "<div>\n",
       "<style scoped>\n",
       "    .dataframe tbody tr th:only-of-type {\n",
       "        vertical-align: middle;\n",
       "    }\n",
       "\n",
       "    .dataframe tbody tr th {\n",
       "        vertical-align: top;\n",
       "    }\n",
       "\n",
       "    .dataframe thead th {\n",
       "        text-align: right;\n",
       "    }\n",
       "</style>\n",
       "<table border=\"1\" class=\"dataframe\">\n",
       "  <thead>\n",
       "    <tr style=\"text-align: right;\">\n",
       "      <th></th>\n",
       "      <th>Latitude</th>\n",
       "      <th>Longitude</th>\n",
       "      <th>Time of Observation</th>\n",
       "      <th>Sea Surface Temperature</th>\n",
       "    </tr>\n",
       "  </thead>\n",
       "  <tbody>\n",
       "    <tr>\n",
       "      <td>0</td>\n",
       "      <td>57.2</td>\n",
       "      <td>0.8</td>\n",
       "      <td>2015-07-01T00:00:00</td>\n",
       "      <td>54.3</td>\n",
       "    </tr>\n",
       "    <tr>\n",
       "      <td>1</td>\n",
       "      <td>50.9</td>\n",
       "      <td>1.3</td>\n",
       "      <td>2015-07-01T00:00:00</td>\n",
       "      <td>59.0</td>\n",
       "    </tr>\n",
       "    <tr>\n",
       "      <td>2</td>\n",
       "      <td>51.2</td>\n",
       "      <td>1.8</td>\n",
       "      <td>2015-07-01T00:00:00</td>\n",
       "      <td>59.7</td>\n",
       "    </tr>\n",
       "    <tr>\n",
       "      <td>3</td>\n",
       "      <td>51.4</td>\n",
       "      <td>2.0</td>\n",
       "      <td>2015-07-01T00:00:00</td>\n",
       "      <td>59.4</td>\n",
       "    </tr>\n",
       "    <tr>\n",
       "      <td>4</td>\n",
       "      <td>56.5</td>\n",
       "      <td>3.2</td>\n",
       "      <td>2015-07-01T00:00:00</td>\n",
       "      <td>55.2</td>\n",
       "    </tr>\n",
       "    <tr>\n",
       "      <td>...</td>\n",
       "      <td>...</td>\n",
       "      <td>...</td>\n",
       "      <td>...</td>\n",
       "      <td>...</td>\n",
       "    </tr>\n",
       "    <tr>\n",
       "      <td>25508</td>\n",
       "      <td>54.2</td>\n",
       "      <td>7.9</td>\n",
       "      <td>2018-07-01T23:00:00</td>\n",
       "      <td>64.2</td>\n",
       "    </tr>\n",
       "    <tr>\n",
       "      <td>25509</td>\n",
       "      <td>55.0</td>\n",
       "      <td>8.0</td>\n",
       "      <td>2018-07-01T23:00:00</td>\n",
       "      <td>62.6</td>\n",
       "    </tr>\n",
       "    <tr>\n",
       "      <td>25510</td>\n",
       "      <td>54.8</td>\n",
       "      <td>8.2</td>\n",
       "      <td>2018-07-01T23:00:00</td>\n",
       "      <td>62.1</td>\n",
       "    </tr>\n",
       "    <tr>\n",
       "      <td>25511</td>\n",
       "      <td>54.0</td>\n",
       "      <td>8.2</td>\n",
       "      <td>2018-07-01T23:00:00</td>\n",
       "      <td>62.2</td>\n",
       "    </tr>\n",
       "    <tr>\n",
       "      <td>25512</td>\n",
       "      <td>55.7</td>\n",
       "      <td>1.0</td>\n",
       "      <td>2018-07-01T23:00:00</td>\n",
       "      <td>61.2</td>\n",
       "    </tr>\n",
       "  </tbody>\n",
       "</table>\n",
       "<p>25513 rows × 4 columns</p>\n",
       "</div>"
      ],
      "text/plain": [
       "       Latitude  Longitude  Time of Observation  Sea Surface Temperature\n",
       "0          57.2        0.8  2015-07-01T00:00:00                     54.3\n",
       "1          50.9        1.3  2015-07-01T00:00:00                     59.0\n",
       "2          51.2        1.8  2015-07-01T00:00:00                     59.7\n",
       "3          51.4        2.0  2015-07-01T00:00:00                     59.4\n",
       "4          56.5        3.2  2015-07-01T00:00:00                     55.2\n",
       "...         ...        ...                  ...                      ...\n",
       "25508      54.2        7.9  2018-07-01T23:00:00                     64.2\n",
       "25509      55.0        8.0  2018-07-01T23:00:00                     62.6\n",
       "25510      54.8        8.2  2018-07-01T23:00:00                     62.1\n",
       "25511      54.0        8.2  2018-07-01T23:00:00                     62.2\n",
       "25512      55.7        1.0  2018-07-01T23:00:00                     61.2\n",
       "\n",
       "[25513 rows x 4 columns]"
      ]
     },
     "execution_count": 73,
     "metadata": {},
     "output_type": "execute_result"
    }
   ],
   "source": [
    "tem1"
   ]
  },
  {
   "cell_type": "code",
   "execution_count": 74,
   "metadata": {
    "ExecuteTime": {
     "end_time": "2020-02-14T13:27:06.761015Z",
     "start_time": "2020-02-14T13:27:06.756028Z"
    }
   },
   "outputs": [],
   "source": [
    "tem1['Latitude1']=0"
   ]
  },
  {
   "cell_type": "code",
   "execution_count": 75,
   "metadata": {
    "ExecuteTime": {
     "end_time": "2020-02-14T13:27:07.139957Z",
     "start_time": "2020-02-14T13:27:07.135967Z"
    }
   },
   "outputs": [],
   "source": [
    "tem1['Longitude1']=0"
   ]
  },
  {
   "cell_type": "code",
   "execution_count": 76,
   "metadata": {
    "ExecuteTime": {
     "end_time": "2020-02-14T13:27:08.636014Z",
     "start_time": "2020-02-14T13:27:08.620059Z"
    },
    "scrolled": true
   },
   "outputs": [
    {
     "data": {
      "text/html": [
       "<div>\n",
       "<style scoped>\n",
       "    .dataframe tbody tr th:only-of-type {\n",
       "        vertical-align: middle;\n",
       "    }\n",
       "\n",
       "    .dataframe tbody tr th {\n",
       "        vertical-align: top;\n",
       "    }\n",
       "\n",
       "    .dataframe thead th {\n",
       "        text-align: right;\n",
       "    }\n",
       "</style>\n",
       "<table border=\"1\" class=\"dataframe\">\n",
       "  <thead>\n",
       "    <tr style=\"text-align: right;\">\n",
       "      <th></th>\n",
       "      <th>Latitude</th>\n",
       "      <th>Longitude</th>\n",
       "      <th>Time of Observation</th>\n",
       "      <th>Sea Surface Temperature</th>\n",
       "      <th>Latitude1</th>\n",
       "      <th>Longitude1</th>\n",
       "    </tr>\n",
       "  </thead>\n",
       "  <tbody>\n",
       "    <tr>\n",
       "      <td>0</td>\n",
       "      <td>57.2</td>\n",
       "      <td>0.8</td>\n",
       "      <td>2015-07-01T00:00:00</td>\n",
       "      <td>54.3</td>\n",
       "      <td>0</td>\n",
       "      <td>0</td>\n",
       "    </tr>\n",
       "    <tr>\n",
       "      <td>1</td>\n",
       "      <td>50.9</td>\n",
       "      <td>1.3</td>\n",
       "      <td>2015-07-01T00:00:00</td>\n",
       "      <td>59.0</td>\n",
       "      <td>0</td>\n",
       "      <td>0</td>\n",
       "    </tr>\n",
       "    <tr>\n",
       "      <td>2</td>\n",
       "      <td>51.2</td>\n",
       "      <td>1.8</td>\n",
       "      <td>2015-07-01T00:00:00</td>\n",
       "      <td>59.7</td>\n",
       "      <td>0</td>\n",
       "      <td>0</td>\n",
       "    </tr>\n",
       "    <tr>\n",
       "      <td>3</td>\n",
       "      <td>51.4</td>\n",
       "      <td>2.0</td>\n",
       "      <td>2015-07-01T00:00:00</td>\n",
       "      <td>59.4</td>\n",
       "      <td>0</td>\n",
       "      <td>0</td>\n",
       "    </tr>\n",
       "    <tr>\n",
       "      <td>4</td>\n",
       "      <td>56.5</td>\n",
       "      <td>3.2</td>\n",
       "      <td>2015-07-01T00:00:00</td>\n",
       "      <td>55.2</td>\n",
       "      <td>0</td>\n",
       "      <td>0</td>\n",
       "    </tr>\n",
       "    <tr>\n",
       "      <td>...</td>\n",
       "      <td>...</td>\n",
       "      <td>...</td>\n",
       "      <td>...</td>\n",
       "      <td>...</td>\n",
       "      <td>...</td>\n",
       "      <td>...</td>\n",
       "    </tr>\n",
       "    <tr>\n",
       "      <td>25508</td>\n",
       "      <td>54.2</td>\n",
       "      <td>7.9</td>\n",
       "      <td>2018-07-01T23:00:00</td>\n",
       "      <td>64.2</td>\n",
       "      <td>0</td>\n",
       "      <td>0</td>\n",
       "    </tr>\n",
       "    <tr>\n",
       "      <td>25509</td>\n",
       "      <td>55.0</td>\n",
       "      <td>8.0</td>\n",
       "      <td>2018-07-01T23:00:00</td>\n",
       "      <td>62.6</td>\n",
       "      <td>0</td>\n",
       "      <td>0</td>\n",
       "    </tr>\n",
       "    <tr>\n",
       "      <td>25510</td>\n",
       "      <td>54.8</td>\n",
       "      <td>8.2</td>\n",
       "      <td>2018-07-01T23:00:00</td>\n",
       "      <td>62.1</td>\n",
       "      <td>0</td>\n",
       "      <td>0</td>\n",
       "    </tr>\n",
       "    <tr>\n",
       "      <td>25511</td>\n",
       "      <td>54.0</td>\n",
       "      <td>8.2</td>\n",
       "      <td>2018-07-01T23:00:00</td>\n",
       "      <td>62.2</td>\n",
       "      <td>0</td>\n",
       "      <td>0</td>\n",
       "    </tr>\n",
       "    <tr>\n",
       "      <td>25512</td>\n",
       "      <td>55.7</td>\n",
       "      <td>1.0</td>\n",
       "      <td>2018-07-01T23:00:00</td>\n",
       "      <td>61.2</td>\n",
       "      <td>0</td>\n",
       "      <td>0</td>\n",
       "    </tr>\n",
       "  </tbody>\n",
       "</table>\n",
       "<p>25513 rows × 6 columns</p>\n",
       "</div>"
      ],
      "text/plain": [
       "       Latitude  Longitude  Time of Observation  Sea Surface Temperature  \\\n",
       "0          57.2        0.8  2015-07-01T00:00:00                     54.3   \n",
       "1          50.9        1.3  2015-07-01T00:00:00                     59.0   \n",
       "2          51.2        1.8  2015-07-01T00:00:00                     59.7   \n",
       "3          51.4        2.0  2015-07-01T00:00:00                     59.4   \n",
       "4          56.5        3.2  2015-07-01T00:00:00                     55.2   \n",
       "...         ...        ...                  ...                      ...   \n",
       "25508      54.2        7.9  2018-07-01T23:00:00                     64.2   \n",
       "25509      55.0        8.0  2018-07-01T23:00:00                     62.6   \n",
       "25510      54.8        8.2  2018-07-01T23:00:00                     62.1   \n",
       "25511      54.0        8.2  2018-07-01T23:00:00                     62.2   \n",
       "25512      55.7        1.0  2018-07-01T23:00:00                     61.2   \n",
       "\n",
       "       Latitude1  Longitude1  \n",
       "0              0           0  \n",
       "1              0           0  \n",
       "2              0           0  \n",
       "3              0           0  \n",
       "4              0           0  \n",
       "...          ...         ...  \n",
       "25508          0           0  \n",
       "25509          0           0  \n",
       "25510          0           0  \n",
       "25511          0           0  \n",
       "25512          0           0  \n",
       "\n",
       "[25513 rows x 6 columns]"
      ]
     },
     "execution_count": 76,
     "metadata": {},
     "output_type": "execute_result"
    }
   ],
   "source": [
    "tem2=tem1\n",
    "tem2"
   ]
  },
  {
   "cell_type": "code",
   "execution_count": 78,
   "metadata": {
    "ExecuteTime": {
     "end_time": "2020-02-14T13:29:08.521817Z",
     "start_time": "2020-02-14T13:29:08.515833Z"
    }
   },
   "outputs": [],
   "source": [
    "def f1(df):\n",
    "    for i in range(10):\n",
    "            if ((50+0.9*i)<=df['Latitude'] and df['Latitude']<=(50+0.9*(i+1))):\n",
    "                return 50+0.9*i+0.4\n",
    "    i=0\n",
    "def f2(df):\n",
    "    for i in range(10):\n",
    "             if (0.85*i<=df['Longitude'] and df['Longitude']<=0.85*(i+1)):\n",
    "                return 0.85*i+0.425\n",
    "    i=0\n",
    "                    \n",
    "            \n",
    "        "
   ]
  },
  {
   "cell_type": "code",
   "execution_count": 79,
   "metadata": {
    "ExecuteTime": {
     "end_time": "2020-02-14T13:29:11.764293Z",
     "start_time": "2020-02-14T13:29:09.708104Z"
    }
   },
   "outputs": [],
   "source": [
    "tem2['Latitude1']=tem2.apply(lambda r:f1(r),axis=1)"
   ]
  },
  {
   "cell_type": "code",
   "execution_count": 80,
   "metadata": {
    "ExecuteTime": {
     "end_time": "2020-02-14T13:29:14.580151Z",
     "start_time": "2020-02-14T13:29:11.834069Z"
    }
   },
   "outputs": [],
   "source": [
    "tem2['Longitude1']=tem2.apply(lambda r:f2(r),axis=1)"
   ]
  },
  {
   "cell_type": "code",
   "execution_count": 81,
   "metadata": {
    "ExecuteTime": {
     "end_time": "2020-02-14T13:29:15.228363Z",
     "start_time": "2020-02-14T13:29:15.213453Z"
    }
   },
   "outputs": [
    {
     "data": {
      "text/html": [
       "<div>\n",
       "<style scoped>\n",
       "    .dataframe tbody tr th:only-of-type {\n",
       "        vertical-align: middle;\n",
       "    }\n",
       "\n",
       "    .dataframe tbody tr th {\n",
       "        vertical-align: top;\n",
       "    }\n",
       "\n",
       "    .dataframe thead th {\n",
       "        text-align: right;\n",
       "    }\n",
       "</style>\n",
       "<table border=\"1\" class=\"dataframe\">\n",
       "  <thead>\n",
       "    <tr style=\"text-align: right;\">\n",
       "      <th></th>\n",
       "      <th>Latitude</th>\n",
       "      <th>Longitude</th>\n",
       "      <th>Time of Observation</th>\n",
       "      <th>Sea Surface Temperature</th>\n",
       "      <th>Latitude1</th>\n",
       "      <th>Longitude1</th>\n",
       "    </tr>\n",
       "  </thead>\n",
       "  <tbody>\n",
       "    <tr>\n",
       "      <td>0</td>\n",
       "      <td>57.2</td>\n",
       "      <td>0.8</td>\n",
       "      <td>2015-07-01T00:00:00</td>\n",
       "      <td>54.3</td>\n",
       "      <td>56.7</td>\n",
       "      <td>0.425</td>\n",
       "    </tr>\n",
       "    <tr>\n",
       "      <td>1</td>\n",
       "      <td>50.9</td>\n",
       "      <td>1.3</td>\n",
       "      <td>2015-07-01T00:00:00</td>\n",
       "      <td>59.0</td>\n",
       "      <td>50.4</td>\n",
       "      <td>1.275</td>\n",
       "    </tr>\n",
       "    <tr>\n",
       "      <td>2</td>\n",
       "      <td>51.2</td>\n",
       "      <td>1.8</td>\n",
       "      <td>2015-07-01T00:00:00</td>\n",
       "      <td>59.7</td>\n",
       "      <td>51.3</td>\n",
       "      <td>2.125</td>\n",
       "    </tr>\n",
       "    <tr>\n",
       "      <td>3</td>\n",
       "      <td>51.4</td>\n",
       "      <td>2.0</td>\n",
       "      <td>2015-07-01T00:00:00</td>\n",
       "      <td>59.4</td>\n",
       "      <td>51.3</td>\n",
       "      <td>2.125</td>\n",
       "    </tr>\n",
       "    <tr>\n",
       "      <td>4</td>\n",
       "      <td>56.5</td>\n",
       "      <td>3.2</td>\n",
       "      <td>2015-07-01T00:00:00</td>\n",
       "      <td>55.2</td>\n",
       "      <td>56.7</td>\n",
       "      <td>2.975</td>\n",
       "    </tr>\n",
       "    <tr>\n",
       "      <td>...</td>\n",
       "      <td>...</td>\n",
       "      <td>...</td>\n",
       "      <td>...</td>\n",
       "      <td>...</td>\n",
       "      <td>...</td>\n",
       "      <td>...</td>\n",
       "    </tr>\n",
       "    <tr>\n",
       "      <td>25508</td>\n",
       "      <td>54.2</td>\n",
       "      <td>7.9</td>\n",
       "      <td>2018-07-01T23:00:00</td>\n",
       "      <td>64.2</td>\n",
       "      <td>54.0</td>\n",
       "      <td>8.075</td>\n",
       "    </tr>\n",
       "    <tr>\n",
       "      <td>25509</td>\n",
       "      <td>55.0</td>\n",
       "      <td>8.0</td>\n",
       "      <td>2018-07-01T23:00:00</td>\n",
       "      <td>62.6</td>\n",
       "      <td>54.9</td>\n",
       "      <td>8.075</td>\n",
       "    </tr>\n",
       "    <tr>\n",
       "      <td>25510</td>\n",
       "      <td>54.8</td>\n",
       "      <td>8.2</td>\n",
       "      <td>2018-07-01T23:00:00</td>\n",
       "      <td>62.1</td>\n",
       "      <td>54.9</td>\n",
       "      <td>8.075</td>\n",
       "    </tr>\n",
       "    <tr>\n",
       "      <td>25511</td>\n",
       "      <td>54.0</td>\n",
       "      <td>8.2</td>\n",
       "      <td>2018-07-01T23:00:00</td>\n",
       "      <td>62.2</td>\n",
       "      <td>54.0</td>\n",
       "      <td>8.075</td>\n",
       "    </tr>\n",
       "    <tr>\n",
       "      <td>25512</td>\n",
       "      <td>55.7</td>\n",
       "      <td>1.0</td>\n",
       "      <td>2018-07-01T23:00:00</td>\n",
       "      <td>61.2</td>\n",
       "      <td>55.8</td>\n",
       "      <td>1.275</td>\n",
       "    </tr>\n",
       "  </tbody>\n",
       "</table>\n",
       "<p>25513 rows × 6 columns</p>\n",
       "</div>"
      ],
      "text/plain": [
       "       Latitude  Longitude  Time of Observation  Sea Surface Temperature  \\\n",
       "0          57.2        0.8  2015-07-01T00:00:00                     54.3   \n",
       "1          50.9        1.3  2015-07-01T00:00:00                     59.0   \n",
       "2          51.2        1.8  2015-07-01T00:00:00                     59.7   \n",
       "3          51.4        2.0  2015-07-01T00:00:00                     59.4   \n",
       "4          56.5        3.2  2015-07-01T00:00:00                     55.2   \n",
       "...         ...        ...                  ...                      ...   \n",
       "25508      54.2        7.9  2018-07-01T23:00:00                     64.2   \n",
       "25509      55.0        8.0  2018-07-01T23:00:00                     62.6   \n",
       "25510      54.8        8.2  2018-07-01T23:00:00                     62.1   \n",
       "25511      54.0        8.2  2018-07-01T23:00:00                     62.2   \n",
       "25512      55.7        1.0  2018-07-01T23:00:00                     61.2   \n",
       "\n",
       "       Latitude1  Longitude1  \n",
       "0           56.7       0.425  \n",
       "1           50.4       1.275  \n",
       "2           51.3       2.125  \n",
       "3           51.3       2.125  \n",
       "4           56.7       2.975  \n",
       "...          ...         ...  \n",
       "25508       54.0       8.075  \n",
       "25509       54.9       8.075  \n",
       "25510       54.9       8.075  \n",
       "25511       54.0       8.075  \n",
       "25512       55.8       1.275  \n",
       "\n",
       "[25513 rows x 6 columns]"
      ]
     },
     "execution_count": 81,
     "metadata": {},
     "output_type": "execute_result"
    }
   ],
   "source": [
    "tem2"
   ]
  },
  {
   "cell_type": "code",
   "execution_count": 82,
   "metadata": {
    "ExecuteTime": {
     "end_time": "2020-02-14T13:29:19.442597Z",
     "start_time": "2020-02-14T13:29:19.276990Z"
    }
   },
   "outputs": [],
   "source": [
    "tem2.to_csv('tem2.csv',index=False)"
   ]
  },
  {
   "cell_type": "code",
   "execution_count": null,
   "metadata": {},
   "outputs": [],
   "source": []
  }
 ],
 "metadata": {
  "kernelspec": {
   "display_name": "Python 3",
   "language": "python",
   "name": "python3"
  },
  "language_info": {
   "codemirror_mode": {
    "name": "ipython",
    "version": 3
   },
   "file_extension": ".py",
   "mimetype": "text/x-python",
   "name": "python",
   "nbconvert_exporter": "python",
   "pygments_lexer": "ipython3",
   "version": "3.7.3"
  },
  "nbTranslate": {
   "displayLangs": [
    "*"
   ],
   "hotkey": "alt-t",
   "langInMainMenu": true,
   "sourceLang": "en",
   "targetLang": "fr",
   "useGoogleTranslate": true
  },
  "varInspector": {
   "cols": {
    "lenName": 16,
    "lenType": 16,
    "lenVar": 40
   },
   "kernels_config": {
    "python": {
     "delete_cmd_postfix": "",
     "delete_cmd_prefix": "del ",
     "library": "var_list.py",
     "varRefreshCmd": "print(var_dic_list())"
    },
    "r": {
     "delete_cmd_postfix": ") ",
     "delete_cmd_prefix": "rm(",
     "library": "var_list.r",
     "varRefreshCmd": "cat(var_dic_list()) "
    }
   },
   "position": {
    "height": "311px",
    "left": "1548px",
    "right": "20px",
    "top": "120px",
    "width": "350px"
   },
   "types_to_exclude": [
    "module",
    "function",
    "builtin_function_or_method",
    "instance",
    "_Feature"
   ],
   "window_display": true
  }
 },
 "nbformat": 4,
 "nbformat_minor": 2
}
